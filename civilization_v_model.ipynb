{
  "nbformat": 4,
  "nbformat_minor": 0,
  "metadata": {
    "colab": {
      "provenance": [],
      "authorship_tag": "ABX9TyOmOWf7yj68DfXgWyX2CMWV",
      "include_colab_link": true
    },
    "kernelspec": {
      "name": "python3",
      "display_name": "Python 3"
    },
    "language_info": {
      "name": "python"
    }
  },
  "cells": [
    {
      "cell_type": "markdown",
      "metadata": {
        "id": "view-in-github",
        "colab_type": "text"
      },
      "source": [
        "<a href=\"https://colab.research.google.com/github/jusbetwin/civilization_v_model/blob/main/civilization_v_model.ipynb\" target=\"_parent\"><img src=\"https://colab.research.google.com/assets/colab-badge.svg\" alt=\"Open In Colab\"/></a>"
      ]
    },
    {
      "cell_type": "code",
      "source": [
        "### Packages\n",
        "\n",
        "from itertools import product\n",
        "import pandas as pd"
      ],
      "metadata": {
        "id": "Iijna7bXKD8L"
      },
      "execution_count": 4,
      "outputs": []
    },
    {
      "cell_type": "code",
      "execution_count": 2,
      "metadata": {
        "id": "eta7cw3_HGUF"
      },
      "outputs": [],
      "source": [
        "### Lists\n",
        "\n",
        "civilization = [\"Pedro II\", \"Ramkhamhaen\", \"Isabella\", \"Hiawatha\", \"Alexander\", \"Harun al-Rashid\",\n",
        "                \"Kamehameha\", \"Gajah Mada\", \"Gandhi\", \"Nebuchadnezzar II\", \"Augustus Caesar\", \"Shaka\",\n",
        "                \"Maria Theresa\",\"Genghis Khan\",\"Ahmad al-Mansur\",\"Napoleon\",\"Ashurbanipal\",\"Dido\",\n",
        "                \"Haile Selassie\",\"Askia\",\"Montezuma\",\"Attila\",\"Maria I\",\"Washington\",\"Bismarck\",\n",
        "                \"Suleiman\",\"Theodora\",\"Ramesses II\",\"Elizabeth\",\"Oda Nobunaga\",\"Harald Bluetooth\",\n",
        "                \"Darius I\",\"Sejong\",\"Pocatello\",\"Wu Zetian\",\"Catherine\",\"Boudicca\",\"Pacal\",\n",
        "                \"William\",\"Casimir III\",\"Pachacuti\",\"Gustavus Adolphus\", \"Enrico Dandolo\"]\n",
        "difficulty = [\"King\", \"Emperor\",\"Warlord\", \"Chieftan\", \"Prince\", \"Settler\", \"Immortal\", \"Diety\"]\n",
        "map_size = [\"Large\",\"Huge\",\"Standard\",\"Duel\",\"Small\",\"Tiny\"]\n",
        "map_type = [\"Continents\",\"Earth\",\"Archipelago\",\"Fractal\",\"Pangea\"]\n",
        "victory_goal = [\"Culture\",\"Science\",\"Domination\",\"Diplomacy\"]"
      ]
    },
    {
      "cell_type": "code",
      "source": [
        "### Create all combinations\n",
        "\n",
        "combinations = list(product(civilization,difficulty,map_size,map_type,victory_goal))"
      ],
      "metadata": {
        "id": "kt-z49wXKaP7"
      },
      "execution_count": null,
      "outputs": []
    },
    {
      "cell_type": "code",
      "source": [
        "### Write combinations to csv\n",
        "\n",
        "df = pd.DataFrame(combinations)\n",
        "df.to_csv('combinations.csv', index=False, header=False)"
      ],
      "metadata": {
        "id": "zIoe-ELpLUPj"
      },
      "execution_count": 11,
      "outputs": []
    }
  ]
}